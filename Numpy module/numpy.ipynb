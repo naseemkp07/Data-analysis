{
  "nbformat": 4,
  "nbformat_minor": 0,
  "metadata": {
    "colab": {
      "provenance": [],
      "include_colab_link": true
    },
    "kernelspec": {
      "name": "python3",
      "display_name": "Python 3"
    },
    "language_info": {
      "name": "python"
    }
  },
  "cells": [
    {
      "cell_type": "markdown",
      "metadata": {
        "id": "view-in-github",
        "colab_type": "text"
      },
      "source": [
        "<a href=\"https://colab.research.google.com/github/naseemkp07/Data-analysis/blob/main/Numpy%20module/numpy.ipynb\" target=\"_parent\"><img src=\"https://colab.research.google.com/assets/colab-badge.svg\" alt=\"Open In Colab\"/></a>"
      ]
    },
    {
      "cell_type": "code",
      "execution_count": null,
      "metadata": {
        "id": "rYACsY0ETBAC"
      },
      "outputs": [],
      "source": [
        "import numpy as np"
      ]
    },
    {
      "cell_type": "code",
      "source": [
        "arr1d = np.array([1, 2, 3])"
      ],
      "metadata": {
        "id": "HkOJXAmtTNnr"
      },
      "execution_count": null,
      "outputs": []
    },
    {
      "cell_type": "code",
      "source": [
        "print(arr1d)"
      ],
      "metadata": {
        "colab": {
          "base_uri": "https://localhost:8080/"
        },
        "id": "JRvqCTT3TWDE",
        "outputId": "5b9eebb5-543b-439d-eaeb-45b826c1be0a"
      },
      "execution_count": null,
      "outputs": [
        {
          "output_type": "stream",
          "name": "stdout",
          "text": [
            "[1 2 3]\n"
          ]
        }
      ]
    },
    {
      "cell_type": "code",
      "source": [
        "arr2d = np.array([ [1, 2, 3] ,\n",
        "                   [4, 5, 6] ] )"
      ],
      "metadata": {
        "id": "SrZuGcrkTYWS"
      },
      "execution_count": null,
      "outputs": []
    },
    {
      "cell_type": "code",
      "source": [
        "print(arr2d)"
      ],
      "metadata": {
        "colab": {
          "base_uri": "https://localhost:8080/"
        },
        "id": "FSxvdtowT_B8",
        "outputId": "ee46bff3-b3bb-4823-bc89-0b9d3ea39da6"
      },
      "execution_count": null,
      "outputs": [
        {
          "output_type": "stream",
          "name": "stdout",
          "text": [
            "[[1 2 3]\n",
            " [4 5 6]]\n"
          ]
        }
      ]
    },
    {
      "cell_type": "code",
      "source": [
        "arr3d = np.array([\n",
        "    [\n",
        "        [1, 2, 3],\n",
        "        [4, 5, 6] ,\n",
        "        [7, 8, 9]\n",
        "    ]\n",
        "])\n",
        "\n",
        "print(arr3d)"
      ],
      "metadata": {
        "colab": {
          "base_uri": "https://localhost:8080/",
          "height": 254
        },
        "id": "MhW71qiCUbtx",
        "outputId": "35e66f0e-96f1-40eb-cda3-81652f2db6f8"
      },
      "execution_count": null,
      "outputs": [
        {
          "output_type": "error",
          "ename": "NameError",
          "evalue": "ignored",
          "traceback": [
            "\u001b[0;31m---------------------------------------------------------------------------\u001b[0m",
            "\u001b[0;31mNameError\u001b[0m                                 Traceback (most recent call last)",
            "\u001b[0;32m<ipython-input-1-bbfc97f3a526>\u001b[0m in \u001b[0;36m<cell line: 1>\u001b[0;34m()\u001b[0m\n\u001b[0;32m----> 1\u001b[0;31m arr3d = np.array([\n\u001b[0m\u001b[1;32m      2\u001b[0m     [\n\u001b[1;32m      3\u001b[0m         \u001b[0;34m[\u001b[0m\u001b[0;36m1\u001b[0m\u001b[0;34m,\u001b[0m \u001b[0;36m2\u001b[0m\u001b[0;34m,\u001b[0m \u001b[0;36m3\u001b[0m\u001b[0;34m]\u001b[0m\u001b[0;34m,\u001b[0m\u001b[0;34m\u001b[0m\u001b[0;34m\u001b[0m\u001b[0m\n\u001b[1;32m      4\u001b[0m         \u001b[0;34m[\u001b[0m\u001b[0;36m4\u001b[0m\u001b[0;34m,\u001b[0m \u001b[0;36m5\u001b[0m\u001b[0;34m,\u001b[0m \u001b[0;36m6\u001b[0m\u001b[0;34m]\u001b[0m \u001b[0;34m,\u001b[0m\u001b[0;34m\u001b[0m\u001b[0;34m\u001b[0m\u001b[0m\n\u001b[1;32m      5\u001b[0m         \u001b[0;34m[\u001b[0m\u001b[0;36m7\u001b[0m\u001b[0;34m,\u001b[0m \u001b[0;36m8\u001b[0m\u001b[0;34m,\u001b[0m \u001b[0;36m9\u001b[0m\u001b[0;34m]\u001b[0m\u001b[0;34m\u001b[0m\u001b[0;34m\u001b[0m\u001b[0m\n",
            "\u001b[0;31mNameError\u001b[0m: name 'np' is not defined"
          ]
        }
      ]
    },
    {
      "cell_type": "code",
      "source": [
        "arr3dL = np.array([\n",
        "    [\n",
        "        [1, 2, 3],\n",
        "        [4, 5, 6]\n",
        "    ],\n",
        "    [\n",
        "        [7, 8, 9],\n",
        "        [10, 11, 12]\n",
        "    ]\n",
        "])\n",
        "\n",
        "print(arr3dL)"
      ],
      "metadata": {
        "colab": {
          "base_uri": "https://localhost:8080/"
        },
        "id": "HR8f-tUTUuaj",
        "outputId": "5dd96fe1-ca5d-4e64-c326-bf6d4783b32f"
      },
      "execution_count": null,
      "outputs": [
        {
          "output_type": "stream",
          "name": "stdout",
          "text": [
            "[[[ 1  2  3]\n",
            "  [ 4  5  6]]\n",
            "\n",
            " [[ 7  8  9]\n",
            "  [10 11 12]]]\n"
          ]
        }
      ]
    },
    {
      "cell_type": "code",
      "source": [
        "print(arr1d.shape)"
      ],
      "metadata": {
        "colab": {
          "base_uri": "https://localhost:8080/"
        },
        "id": "12xzRQh2VF8x",
        "outputId": "fb414a31-eecf-4fe0-c0c5-fb2f55563156"
      },
      "execution_count": null,
      "outputs": [
        {
          "output_type": "stream",
          "name": "stdout",
          "text": [
            "(3,)\n"
          ]
        }
      ]
    },
    {
      "cell_type": "code",
      "source": [
        "print(arr2d.shape)"
      ],
      "metadata": {
        "colab": {
          "base_uri": "https://localhost:8080/"
        },
        "id": "qWDYdN7DUOIO",
        "outputId": "850d7822-5b4b-49e7-9214-75ebff6de8b7"
      },
      "execution_count": null,
      "outputs": [
        {
          "output_type": "stream",
          "name": "stdout",
          "text": [
            "(2, 3)\n"
          ]
        }
      ]
    },
    {
      "cell_type": "code",
      "source": [
        "print(arr3d.shape)"
      ],
      "metadata": {
        "colab": {
          "base_uri": "https://localhost:8080/"
        },
        "id": "VDTsWEwRVXOo",
        "outputId": "d5ad0de7-26e6-40a7-def1-8327f2ba3d7c"
      },
      "execution_count": null,
      "outputs": [
        {
          "output_type": "stream",
          "name": "stdout",
          "text": [
            "(1, 3, 3)\n"
          ]
        }
      ]
    },
    {
      "cell_type": "code",
      "source": [
        "print(arr3dL.shape)"
      ],
      "metadata": {
        "colab": {
          "base_uri": "https://localhost:8080/"
        },
        "id": "HeuCFi5uWsDY",
        "outputId": "f31ed411-5741-47b3-c01c-ccfacbc2defb"
      },
      "execution_count": null,
      "outputs": [
        {
          "output_type": "stream",
          "name": "stdout",
          "text": [
            "(2, 2, 3)\n"
          ]
        }
      ]
    },
    {
      "cell_type": "code",
      "source": [
        "#Check the datatype\n",
        "\n",
        "arr = np.array([1,2, 3, 4, 5])\n",
        "type(arr)"
      ],
      "metadata": {
        "colab": {
          "base_uri": "https://localhost:8080/"
        },
        "id": "usBoSPoVW_Yt",
        "outputId": "ed80c55f-0d05-48d2-f56e-26379f44bf36"
      },
      "execution_count": null,
      "outputs": [
        {
          "output_type": "execute_result",
          "data": {
            "text/plain": [
              "numpy.ndarray"
            ]
          },
          "metadata": {},
          "execution_count": 28
        }
      ]
    },
    {
      "cell_type": "code",
      "source": [
        "arr1d = np.array([1, 2, 3 , 4, 5 ])\n",
        "#Access the second element (index 1)\n",
        "element = arr1d[1]\n",
        "print(element)"
      ],
      "metadata": {
        "colab": {
          "base_uri": "https://localhost:8080/"
        },
        "id": "LOFsdSJ6XYeE",
        "outputId": "8af31905-651d-4e26-dd7e-7bd255190274"
      },
      "execution_count": null,
      "outputs": [
        {
          "output_type": "stream",
          "name": "stdout",
          "text": [
            "2\n"
          ]
        }
      ]
    },
    {
      "cell_type": "code",
      "source": [
        "#To slice arrays to extract specific portions of the data\n",
        "\n",
        "arr1d = np.array([1,4,5,6,7,8,])\n",
        "slice = arr1d[1:4]\n",
        "print(slice)"
      ],
      "metadata": {
        "colab": {
          "base_uri": "https://localhost:8080/"
        },
        "id": "iNpknUcuXbR2",
        "outputId": "a3e12a1f-5c5a-4c4a-a061-2843d3dcee0d"
      },
      "execution_count": null,
      "outputs": [
        {
          "output_type": "stream",
          "name": "stdout",
          "text": [
            "[4 5 6]\n"
          ]
        }
      ]
    },
    {
      "cell_type": "code",
      "source": [
        "#To reshape arrays using the reshape() method.\n",
        "arr1d = np.array([1, 2, 3])\n",
        "print(arr1d)\n",
        "print(\"------------------------\")\n",
        "reshaped = arr1d.reshape(3, 1)  # Reshape into a 3x1 matrix\n",
        "print(reshaped)"
      ],
      "metadata": {
        "colab": {
          "base_uri": "https://localhost:8080/"
        },
        "id": "Rt0xQJCmYct5",
        "outputId": "2e66c7ea-9534-4e7e-e303-e175a3b60ad2"
      },
      "execution_count": null,
      "outputs": [
        {
          "output_type": "stream",
          "name": "stdout",
          "text": [
            "[1 2 3]\n",
            "------------------------\n",
            "[[1]\n",
            " [2]\n",
            " [3]]\n"
          ]
        }
      ]
    },
    {
      "cell_type": "code",
      "source": [
        "arr = np.array([1, 2, 3, 4, 5, 6])\n",
        "print(arr)\n",
        "print(\"-------------------------\")\n",
        "reshaped = arr.reshape(2, 3)\n",
        "print(reshaped)"
      ],
      "metadata": {
        "colab": {
          "base_uri": "https://localhost:8080/"
        },
        "id": "Li5vEWhPYmbD",
        "outputId": "bed97610-825a-4212-bcab-2312c0c7e25c"
      },
      "execution_count": null,
      "outputs": [
        {
          "output_type": "stream",
          "name": "stdout",
          "text": [
            "[1 2 3 4 5 6]\n",
            "-------------------------\n",
            "[[1 2 3]\n",
            " [4 5 6]]\n"
          ]
        }
      ]
    },
    {
      "cell_type": "code",
      "source": [
        "#To iterate over NumPy arrays using loops.\n",
        "arr1d = np.array([1, 2, 3])\n",
        "for item in arr1d:\n",
        " print(item)"
      ],
      "metadata": {
        "colab": {
          "base_uri": "https://localhost:8080/"
        },
        "id": "Fsp7FWLVZJpd",
        "outputId": "d760188e-1ed6-4dbb-eaad-7a5fe4dd61c5"
      },
      "execution_count": null,
      "outputs": [
        {
          "output_type": "stream",
          "name": "stdout",
          "text": [
            "1\n",
            "2\n",
            "3\n"
          ]
        }
      ]
    },
    {
      "cell_type": "code",
      "source": [
        " #To iterate over NumPy arrays using loops.\n",
        "import numpy as np\n",
        "arr = np.array([1, 2, 3, 4, 5])\n",
        "for item in arr:\n",
        "            print(item)\n"
      ],
      "metadata": {
        "colab": {
          "base_uri": "https://localhost:8080/"
        },
        "id": "Dah66btbZKvf",
        "outputId": "97260b93-e70e-4161-86c2-aca4a1e0626f"
      },
      "execution_count": null,
      "outputs": [
        {
          "output_type": "stream",
          "name": "stdout",
          "text": [
            "1\n",
            "2\n",
            "3\n",
            "4\n",
            "5\n"
          ]
        }
      ]
    },
    {
      "cell_type": "code",
      "source": [
        "#Returns the shape (dimensions) of the array.\n",
        "\n",
        "arr = np.array([1, 2, 3, 4, 5, 6])\n",
        "shape = arr.shape\n",
        "print(shape)"
      ],
      "metadata": {
        "colab": {
          "base_uri": "https://localhost:8080/"
        },
        "id": "sNfvVfQkZVpH",
        "outputId": "f442558a-4b26-4d6f-b480-0d306e5ca0b0"
      },
      "execution_count": null,
      "outputs": [
        {
          "output_type": "stream",
          "name": "stdout",
          "text": [
            "(6,)\n"
          ]
        }
      ]
    },
    {
      "cell_type": "code",
      "source": [
        "arr2d = np.array([\n",
        "                  [1, 2, 3, 4],\n",
        "                  [4, 5, 6, 7]\n",
        "\n",
        "                 ]\n",
        "                 )\n",
        "shape = arr2d.shape\n",
        "print(shape)"
      ],
      "metadata": {
        "colab": {
          "base_uri": "https://localhost:8080/"
        },
        "id": "Yz8mqAD_ZsAj",
        "outputId": "af2e0f2c-6864-4324-9649-8068424f6c51"
      },
      "execution_count": null,
      "outputs": [
        {
          "output_type": "stream",
          "name": "stdout",
          "text": [
            "(2, 4)\n"
          ]
        }
      ]
    },
    {
      "cell_type": "code",
      "source": [
        "#3 dimensional\n",
        "arr3d = np.array([ [\n",
        "                  [1, 2, 3, 4],\n",
        "                  [4, 5, 6, 7] ,\n",
        "                  [8 , 7, 6,  5]\n",
        "                   ]\n",
        "                 ]\n",
        "                 )\n",
        "shape = arr3d.shape\n",
        "print(shape)"
      ],
      "metadata": {
        "colab": {
          "base_uri": "https://localhost:8080/"
        },
        "id": "J4Icdi0Qau9E",
        "outputId": "7fcae6c9-837d-40d5-8b01-f0854924fb91"
      },
      "execution_count": null,
      "outputs": [
        {
          "output_type": "stream",
          "name": "stdout",
          "text": [
            "(1, 3, 4)\n"
          ]
        }
      ]
    },
    {
      "cell_type": "code",
      "source": [
        "# 3 dimensional array\n",
        "arr3d = np.array([[\n",
        "                  [1, 2, 3],\n",
        "                   [4, 5, 6]\n",
        "                  ]\n",
        "                 ,\n",
        "                  [\n",
        "                      [1, 2, 3],\n",
        "                      [4, 5, 6]\n",
        "                  ]\n",
        "                 ]\n",
        "                )\n",
        "shape = arr3d.shape\n",
        "print(shape)\n"
      ],
      "metadata": {
        "colab": {
          "base_uri": "https://localhost:8080/"
        },
        "id": "OBvWrV3VZ1Io",
        "outputId": "05c16f03-08fe-4ff3-a067-70d65df17ded"
      },
      "execution_count": null,
      "outputs": [
        {
          "output_type": "stream",
          "name": "stdout",
          "text": [
            "(2, 2, 3)\n"
          ]
        }
      ]
    },
    {
      "cell_type": "code",
      "source": [
        "sample_2d_array = np.array([[1, 2, 3], [4, 5, 6]])\n",
        "print(\"Dimensions of 'sample_2d_array' = \", sample_2d_array.ndim)"
      ],
      "metadata": {
        "colab": {
          "base_uri": "https://localhost:8080/"
        },
        "id": "pKb19kvoaHsL",
        "outputId": "329b3c76-889a-48e3-d4da-51c8001c202f"
      },
      "execution_count": null,
      "outputs": [
        {
          "output_type": "stream",
          "name": "stdout",
          "text": [
            "Dimensions of 'sample_2d_array' =  2\n"
          ]
        }
      ]
    },
    {
      "cell_type": "code",
      "source": [
        "arr = np.array([0, 1, 2, 3, 4, 5, 6, 7, 8, 9])\n",
        "print(\"Dimensions of 'array_of_integers' = \", arr.ndim)\n"
      ],
      "metadata": {
        "colab": {
          "base_uri": "https://localhost:8080/"
        },
        "id": "f_7wZoIcbkTi",
        "outputId": "dc8f8120-5d33-4d7c-ca1f-670bbe9d6f23"
      },
      "execution_count": null,
      "outputs": [
        {
          "output_type": "stream",
          "name": "stdout",
          "text": [
            "Dimensions of 'array_of_integers' =  1\n"
          ]
        }
      ]
    },
    {
      "cell_type": "code",
      "source": [
        "#Returns the total number of elements in the array.\n",
        "\n",
        "array_of_integers = np.array([0, 1, 2, 3, 4, 5, 6, 7, 8, 9])\n",
        "print(f\"The total number of elements in our array 'array_of_integers' = {array_of_integers.size}\")\n",
        "print({array_of_integers.size})"
      ],
      "metadata": {
        "colab": {
          "base_uri": "https://localhost:8080/"
        },
        "id": "zocp9rSibrTa",
        "outputId": "ff84283f-48a3-4609-f4ce-01fe05ba392c"
      },
      "execution_count": null,
      "outputs": [
        {
          "output_type": "stream",
          "name": "stdout",
          "text": [
            "The total number of elements in our array 'array_of_integers' = 10\n",
            "{10}\n"
          ]
        }
      ]
    },
    {
      "cell_type": "code",
      "source": [
        "my_array = np.array([1, 2, 3, 4, 5])\n",
        "print(my_array.dtype)\n"
      ],
      "metadata": {
        "colab": {
          "base_uri": "https://localhost:8080/"
        },
        "id": "l6snDWg4cwQ5",
        "outputId": "7bc1f7ff-81c8-4073-eacf-f4bf5c96b434"
      },
      "execution_count": null,
      "outputs": [
        {
          "output_type": "stream",
          "name": "stdout",
          "text": [
            "int64\n"
          ]
        }
      ]
    },
    {
      "cell_type": "code",
      "source": [
        "my_array = np.array([1, 2.0, 3, 4, 5, 'abc'])\n",
        "print(my_array.dtype)\n"
      ],
      "metadata": {
        "colab": {
          "base_uri": "https://localhost:8080/"
        },
        "id": "h4GokU8IcxFX",
        "outputId": "e3600718-30c2-4168-829a-10339ff3d729"
      },
      "execution_count": null,
      "outputs": [
        {
          "output_type": "stream",
          "name": "stdout",
          "text": [
            "<U32\n"
          ]
        }
      ]
    },
    {
      "cell_type": "code",
      "source": [
        "#Changes the data type of the array.\n",
        "\n",
        "arr1 = np.array([2, 3, 4])\n",
        "print(arr1)\n",
        "print(arr1.dtype)\n",
        "print(\"-----------------------\")\n",
        "arr2 = arr1.astype('float64')\n",
        "print(arr2)\n",
        "print(arr2.dtype)"
      ],
      "metadata": {
        "colab": {
          "base_uri": "https://localhost:8080/"
        },
        "id": "flesYOpcc4zg",
        "outputId": "310a8a4a-cef2-41f7-e529-2f803906bace"
      },
      "execution_count": null,
      "outputs": [
        {
          "output_type": "stream",
          "name": "stdout",
          "text": [
            "[2 3 4]\n",
            "int64\n",
            "-----------------------\n",
            "[2. 3. 4.]\n",
            "float64\n"
          ]
        }
      ]
    },
    {
      "cell_type": "code",
      "source": [
        "import numpy as np\n",
        "# Create two 1D arrays\n",
        "arr1 = np.array([1, 2, 3])\n",
        "arr2 = np.array([4, 5, 6])\n",
        "\n",
        "# Concatenate the arrays along the 0th axis (resulting in a longer 1D array)\n",
        "result = np.concatenate((arr1, arr2), axis=0)\n",
        "print(result)"
      ],
      "metadata": {
        "colab": {
          "base_uri": "https://localhost:8080/"
        },
        "id": "WJ66UWw9aOmo",
        "outputId": "7d11de03-337a-41c0-8559-f9e51477369e"
      },
      "execution_count": null,
      "outputs": [
        {
          "output_type": "stream",
          "name": "stdout",
          "text": [
            "[1 2 3 4 5 6]\n"
          ]
        }
      ]
    },
    {
      "cell_type": "code",
      "source": [
        "\n",
        "import numpy as np\n",
        "# Create a 1D array\n",
        "arr = np.array([1, 2, 3, 4, 5, 6 ])\n",
        "# Split the array into two subarrays along the 0th axis\n",
        "subarrays = np.split(arr, 3, axis=0)\n",
        "print(subarrays)"
      ],
      "metadata": {
        "colab": {
          "base_uri": "https://localhost:8080/"
        },
        "id": "1S9oZlEqasK7",
        "outputId": "da611ba0-abc3-4e46-8a6b-4a53776c3d06"
      },
      "execution_count": null,
      "outputs": [
        {
          "output_type": "stream",
          "name": "stdout",
          "text": [
            "[array([1, 2]), array([3, 4]), array([5, 6])]\n"
          ]
        }
      ]
    },
    {
      "cell_type": "code",
      "source": [
        "import numpy as np\n",
        "arr = np.array([1, 2, 3, 4, 5, 6])\n",
        "indices = np.where(arr > 3)  # Find indices where elements are greater than 3\n",
        "print(indices)\n"
      ],
      "metadata": {
        "colab": {
          "base_uri": "https://localhost:8080/"
        },
        "id": "3oFZS2fwdQfl",
        "outputId": "8568049f-267f-437c-8613-1e8c398302b9"
      },
      "execution_count": null,
      "outputs": [
        {
          "output_type": "stream",
          "name": "stdout",
          "text": [
            "(array([3, 4, 5]),)\n"
          ]
        }
      ]
    },
    {
      "cell_type": "code",
      "source": [
        "import numpy as np\n",
        "arr = np.array([3, 1, 2, 4, 5])\n",
        "sorted_arr = np.sort(arr)\n",
        "print(sorted_arr)\n"
      ],
      "metadata": {
        "colab": {
          "base_uri": "https://localhost:8080/"
        },
        "id": "FDb9Pp9Pdru7",
        "outputId": "a716848c-e2a5-49c2-cb1b-e8dd149f72ca"
      },
      "execution_count": null,
      "outputs": [
        {
          "output_type": "stream",
          "name": "stdout",
          "text": [
            "[1 2 3 4 5]\n"
          ]
        }
      ]
    },
    {
      "cell_type": "code",
      "source": [
        "#Filtering Arrays using Boolean Indexing:\n",
        "#You can create new arrays with elements that meet specific conditions using Boolean indexing\n",
        "\n",
        "import numpy as np\n",
        "arr = np.array([1, 2, 3, 4, 5, 6])\n",
        "condition = arr > 3\n",
        "filtered_arr = arr[condition]  # Create a new array with elements greater than 3\n",
        "print(filtered_arr)"
      ],
      "metadata": {
        "colab": {
          "base_uri": "https://localhost:8080/"
        },
        "id": "WuMKcK6EeIng",
        "outputId": "4330a218-8820-42e9-bfc6-62cb9d8ff09d"
      },
      "execution_count": null,
      "outputs": [
        {
          "output_type": "stream",
          "name": "stdout",
          "text": [
            "[4 5 6]\n"
          ]
        }
      ]
    },
    {
      "cell_type": "code",
      "source": [
        "import numpy as np\n",
        "arr = np.array([41, 40, 42, 43, 44])\n",
        "x = [True, True, False, True, False]\n",
        "newarr = arr[x]\n",
        "print(newarr)\n"
      ],
      "metadata": {
        "colab": {
          "base_uri": "https://localhost:8080/"
        },
        "id": "nsOxQ7svebpY",
        "outputId": "95df1271-0642-4a15-f644-dc0a8a9c0b92"
      },
      "execution_count": null,
      "outputs": [
        {
          "output_type": "stream",
          "name": "stdout",
          "text": [
            "[41 40 43]\n"
          ]
        }
      ]
    },
    {
      "cell_type": "code",
      "source": [
        "table = np.array([\n",
        "    [1, 2, 3],\n",
        "    [4, 5, 6],\n",
        "    [7, 8, 9]\n",
        "])\n",
        "\n",
        "table\n"
      ],
      "metadata": {
        "colab": {
          "base_uri": "https://localhost:8080/"
        },
        "id": "po9GgZVOfC2F",
        "outputId": "b13620d3-3b27-4b9b-ed30-07bc3794c300"
      },
      "execution_count": null,
      "outputs": [
        {
          "output_type": "execute_result",
          "data": {
            "text/plain": [
              "array([[1, 2, 3],\n",
              "       [4, 5, 6],\n",
              "       [7, 8, 9]])"
            ]
          },
          "metadata": {},
          "execution_count": 12
        }
      ]
    },
    {
      "cell_type": "markdown",
      "source": [
        "**slicing rows**"
      ],
      "metadata": {
        "id": "ALi3R-ZAgkaA"
      }
    },
    {
      "cell_type": "code",
      "source": [
        "# Extract the second row (index 1)\n",
        "row = table[1, :]\n",
        "row"
      ],
      "metadata": {
        "colab": {
          "base_uri": "https://localhost:8080/"
        },
        "id": "pRkehjSMfV9G",
        "outputId": "a1ac0c03-9c87-47a1-cc90-a9fb00d8005f"
      },
      "execution_count": null,
      "outputs": [
        {
          "output_type": "execute_result",
          "data": {
            "text/plain": [
              "array([4, 5, 6])"
            ]
          },
          "metadata": {},
          "execution_count": 16
        }
      ]
    },
    {
      "cell_type": "code",
      "source": [
        "# Extract rows 0 and 1\n",
        "rows = table[0:2 , :]\n",
        "rows"
      ],
      "metadata": {
        "colab": {
          "base_uri": "https://localhost:8080/"
        },
        "id": "wBjfO82ofnlN",
        "outputId": "eba220c2-92dc-435b-fd81-f1803dad1aa0"
      },
      "execution_count": null,
      "outputs": [
        {
          "output_type": "execute_result",
          "data": {
            "text/plain": [
              "array([[1, 2, 3],\n",
              "       [4, 5, 6]])"
            ]
          },
          "metadata": {},
          "execution_count": 18
        }
      ]
    },
    {
      "cell_type": "code",
      "source": [
        "# Extract all rows starting from the second row\n",
        "remaining_rows = table[1: , :]\n",
        "remaining_rows"
      ],
      "metadata": {
        "colab": {
          "base_uri": "https://localhost:8080/"
        },
        "id": "xiRCY7i4f6m2",
        "outputId": "cd726e43-a9a9-4032-a06c-c3a39bf0391b"
      },
      "execution_count": null,
      "outputs": [
        {
          "output_type": "execute_result",
          "data": {
            "text/plain": [
              "array([[4, 5, 6],\n",
              "       [7, 8, 9]])"
            ]
          },
          "metadata": {},
          "execution_count": 20
        }
      ]
    },
    {
      "cell_type": "markdown",
      "source": [
        "**Slicing columns**"
      ],
      "metadata": {
        "id": "1kokOwpPgfwQ"
      }
    },
    {
      "cell_type": "code",
      "source": [
        "# Extract the second column (index 1)\n",
        "column = table[:, 1]\n",
        "column"
      ],
      "metadata": {
        "colab": {
          "base_uri": "https://localhost:8080/"
        },
        "id": "dl67fA20gMcg",
        "outputId": "242abbef-8f3e-4073-98ed-fce06d6923b9"
      },
      "execution_count": null,
      "outputs": [
        {
          "output_type": "execute_result",
          "data": {
            "text/plain": [
              "array([2, 5, 8])"
            ]
          },
          "metadata": {},
          "execution_count": 21
        }
      ]
    },
    {
      "cell_type": "code",
      "source": [
        "# Extract columns 0 and 2\n",
        "columns = table[: , [0, 2]]\n",
        "columns"
      ],
      "metadata": {
        "colab": {
          "base_uri": "https://localhost:8080/"
        },
        "id": "TUFYpaMmgtAy",
        "outputId": "88b6e900-4d9b-4ed7-822c-277ae7e7bf7f"
      },
      "execution_count": null,
      "outputs": [
        {
          "output_type": "execute_result",
          "data": {
            "text/plain": [
              "array([[1, 3],\n",
              "       [4, 6],\n",
              "       [7, 9]])"
            ]
          },
          "metadata": {},
          "execution_count": 22
        }
      ]
    },
    {
      "cell_type": "code",
      "source": [
        "table = np.array([\n",
        "    [1, 2, 3],\n",
        "    [4, 5, 6],\n",
        "    [7, 8, 9]\n",
        "])\n",
        "\n",
        "table"
      ],
      "metadata": {
        "colab": {
          "base_uri": "https://localhost:8080/"
        },
        "id": "IXygCIRdhwK8",
        "outputId": "c7c14a0e-f5d6-4c6b-9f3d-77beb9504d6f"
      },
      "execution_count": null,
      "outputs": [
        {
          "output_type": "execute_result",
          "data": {
            "text/plain": [
              "array([[1, 2, 3],\n",
              "       [4, 5, 6],\n",
              "       [7, 8, 9]])"
            ]
          },
          "metadata": {},
          "execution_count": 23
        }
      ]
    },
    {
      "cell_type": "code",
      "source": [
        "#Slicing Specific Rows and Columns:\n",
        "subset = table[1:3, [0, 2]]\n",
        "subset"
      ],
      "metadata": {
        "colab": {
          "base_uri": "https://localhost:8080/"
        },
        "id": "9LuI5i2rhOY_",
        "outputId": "044d2674-3299-4529-bcb1-df8ca65e7a78"
      },
      "execution_count": null,
      "outputs": [
        {
          "output_type": "execute_result",
          "data": {
            "text/plain": [
              "array([[4, 6],\n",
              "       [7, 9]])"
            ]
          },
          "metadata": {},
          "execution_count": 25
        }
      ]
    },
    {
      "cell_type": "code",
      "source": [
        "arr3d = np.array([\n",
        "    [\n",
        "        [1, 2, 3],\n",
        "        [4, 5, 6]\n",
        "    ],\n",
        "    [\n",
        "        [7, 8, 9],\n",
        "        [10, 11, 12]\n",
        "    ]\n",
        "])\n",
        "\n",
        "arr3d"
      ],
      "metadata": {
        "colab": {
          "base_uri": "https://localhost:8080/"
        },
        "id": "9bNB9rIxh73l",
        "outputId": "38b74876-78c0-4540-a7e3-9d5231083aa6"
      },
      "execution_count": null,
      "outputs": [
        {
          "output_type": "execute_result",
          "data": {
            "text/plain": [
              "array([[[ 1,  2,  3],\n",
              "        [ 4,  5,  6]],\n",
              "\n",
              "       [[ 7,  8,  9],\n",
              "        [10, 11, 12]]])"
            ]
          },
          "metadata": {},
          "execution_count": 27
        }
      ]
    },
    {
      "cell_type": "code",
      "source": [
        "# Extract the first \"layer\"\n",
        "layer1 = arr3d[0, :, :]\n",
        "layer1"
      ],
      "metadata": {
        "colab": {
          "base_uri": "https://localhost:8080/"
        },
        "id": "MMjntZOIi1ya",
        "outputId": "75a05fe4-96fc-4fa2-a840-4b97dded1166"
      },
      "execution_count": null,
      "outputs": [
        {
          "output_type": "execute_result",
          "data": {
            "text/plain": [
              "array([[1, 2, 3],\n",
              "       [4, 5, 6]])"
            ]
          },
          "metadata": {},
          "execution_count": 29
        }
      ]
    },
    {
      "cell_type": "code",
      "source": [
        "# Extract the second \"layer\"\n",
        "layer2 = arr3d[1, :, :]\n",
        "layer2"
      ],
      "metadata": {
        "colab": {
          "base_uri": "https://localhost:8080/"
        },
        "id": "nbrPmOxkjkcB",
        "outputId": "68589bab-c018-4761-bdd4-3c656d6cd9cb"
      },
      "execution_count": null,
      "outputs": [
        {
          "output_type": "execute_result",
          "data": {
            "text/plain": [
              "array([[ 7,  8,  9],\n",
              "       [10, 11, 12]])"
            ]
          },
          "metadata": {},
          "execution_count": 30
        }
      ]
    },
    {
      "cell_type": "code",
      "source": [
        "# Extract the first row from both layers\n",
        "first_row = arr3d[:, 0, :]\n",
        "first_row"
      ],
      "metadata": {
        "colab": {
          "base_uri": "https://localhost:8080/"
        },
        "id": "G8nvtbfSj3c7",
        "outputId": "4db725d5-86af-4dfe-ab42-cf1067defe3d"
      },
      "execution_count": null,
      "outputs": [
        {
          "output_type": "execute_result",
          "data": {
            "text/plain": [
              "array([[1, 2, 3],\n",
              "       [7, 8, 9]])"
            ]
          },
          "metadata": {},
          "execution_count": 31
        }
      ]
    },
    {
      "cell_type": "code",
      "source": [
        "# Extract the second row from the second layer\n",
        "second_row_layer2 = arr3d[1, 1, :]\n",
        "second_row_layer2"
      ],
      "metadata": {
        "colab": {
          "base_uri": "https://localhost:8080/"
        },
        "id": "P-9NQ41ZkD-U",
        "outputId": "6f7f7bd8-59b5-4a87-8296-a0ec440e718d"
      },
      "execution_count": null,
      "outputs": [
        {
          "output_type": "execute_result",
          "data": {
            "text/plain": [
              "array([10, 11, 12])"
            ]
          },
          "metadata": {},
          "execution_count": 32
        }
      ]
    },
    {
      "cell_type": "code",
      "source": [
        "# Extract the first column from both layers\n",
        "first_column = arr3d[:, :, 0]\n",
        "first_column"
      ],
      "metadata": {
        "colab": {
          "base_uri": "https://localhost:8080/"
        },
        "id": "_Itn5e2Bkcue",
        "outputId": "b3e73444-149e-440c-d131-eb12105336db"
      },
      "execution_count": null,
      "outputs": [
        {
          "output_type": "execute_result",
          "data": {
            "text/plain": [
              "array([[ 1,  4],\n",
              "       [ 7, 10]])"
            ]
          },
          "metadata": {},
          "execution_count": 42
        }
      ]
    },
    {
      "cell_type": "code",
      "source": [
        "# Extract the third column from the first layer\n",
        "third_column_layer1 = arr3d[0, 1, 2]\n",
        "third_column_layer1"
      ],
      "metadata": {
        "colab": {
          "base_uri": "https://localhost:8080/"
        },
        "id": "ELm6GTuJkxx4",
        "outputId": "d9f910b0-8969-4cf9-941d-d17c114121de"
      },
      "execution_count": null,
      "outputs": [
        {
          "output_type": "execute_result",
          "data": {
            "text/plain": [
              "6"
            ]
          },
          "metadata": {},
          "execution_count": 40
        }
      ]
    },
    {
      "cell_type": "code",
      "source": [],
      "metadata": {
        "id": "CWYeQdF0t3JV"
      },
      "execution_count": null,
      "outputs": []
    },
    {
      "cell_type": "code",
      "source": [
        "# An uninitialized array is created using np.empty(shape, dtype), and its values are not initialized.\n",
        "# The values in the array can be arbitrary and are not guaranteed to be zeros or any specific value.\n",
        "\n",
        "import numpy as np\n",
        "uninitialized_array = np.empty([5, 3])\n",
        "print(uninitialized_array)\n"
      ],
      "metadata": {
        "id": "pRyNCEKVlxRd",
        "colab": {
          "base_uri": "https://localhost:8080/"
        },
        "outputId": "c8bb9786-cd1a-4705-a5bf-8cae39d87214"
      },
      "execution_count": null,
      "outputs": [
        {
          "output_type": "stream",
          "name": "stdout",
          "text": [
            "[[4.96957567e-310 0.00000000e+000 1.97250832e-153]\n",
            " [1.10159478e+253 4.99955025e+228 1.96873339e-153]\n",
            " [4.40571859e-085 9.17652394e+199 1.10155749e+253]\n",
            " [5.76353811e+228 1.96873339e-153 4.40571859e-085]\n",
            " [9.17652394e+199 8.76163865e+245 1.34584862e-284]]\n"
          ]
        }
      ]
    },
    {
      "cell_type": "code",
      "source": [
        "# Initialized with Zeros:\n",
        "# You can create an array initialized with zeros using np.zeros(shape, dtype).\n",
        "\n",
        "import numpy as np\n",
        "zeros_array = np.zeros((3, 3))  # Default dtype is float\n",
        "\n",
        "print(zeros_array)\n",
        "print(\"-----------------------\")\n",
        "another_zeros_array = np.zeros((3, 3), dtype=int)\n",
        "print(another_zeros_array)\n"
      ],
      "metadata": {
        "colab": {
          "base_uri": "https://localhost:8080/"
        },
        "id": "SGXHDi2WpnfK",
        "outputId": "04e8cd62-c121-46af-f649-216eb4022dc0"
      },
      "execution_count": null,
      "outputs": [
        {
          "output_type": "stream",
          "name": "stdout",
          "text": [
            "[[0. 0. 0.]\n",
            " [0. 0. 0.]\n",
            " [0. 0. 0.]]\n",
            "-----------------------\n",
            "[[0 0 0]\n",
            " [0 0 0]\n",
            " [0 0 0]]\n"
          ]
        }
      ]
    },
    {
      "cell_type": "code",
      "source": [
        "# Initialized with Ones:\n",
        "# You can create an array initialized with ones using np.ones(shape, dtype).\n",
        "\n",
        "\n",
        "import numpy as np\n",
        "ones_array = np.ones((3, 3))  # Default dtype is float\n",
        "print(ones_array)\n",
        "print(\"---------------------------\")\n",
        "another_ones_array = np.ones((3, 3), dtype=int)\n",
        "print(another_ones_array)\n"
      ],
      "metadata": {
        "colab": {
          "base_uri": "https://localhost:8080/"
        },
        "id": "izFxfFsSsmoZ",
        "outputId": "201f844e-e098-48f8-bbbe-ebde8bedee2b"
      },
      "execution_count": null,
      "outputs": [
        {
          "output_type": "stream",
          "name": "stdout",
          "text": [
            "[[1. 1. 1.]\n",
            " [1. 1. 1.]\n",
            " [1. 1. 1.]]\n",
            "---------------------------\n",
            "[[1 1 1]\n",
            " [1 1 1]\n",
            " [1 1 1]]\n"
          ]
        }
      ]
    },
    {
      "cell_type": "code",
      "source": [
        "# Array from Numerical Ranges:\n",
        "# You can create an array with values generated from a numerical range using np.arange(start, stop, step, dtype)\n",
        "\n",
        "\n",
        "import numpy as np\n",
        "array_with_range = np.arange(5)\n",
        "print(array_with_range)\n",
        "\n",
        "print(\"------------------------------\")\n",
        "another_array_with_range = np.arange(10, 20, 2)\n",
        "print(another_array_with_range)"
      ],
      "metadata": {
        "colab": {
          "base_uri": "https://localhost:8080/"
        },
        "id": "RvtE5euatfDB",
        "outputId": "60fc0c39-ea20-4930-fa2e-fffc410f13c7"
      },
      "execution_count": null,
      "outputs": [
        {
          "output_type": "stream",
          "name": "stdout",
          "text": [
            "[0 1 2 3 4]\n",
            "------------------------------\n",
            "[10 12 14 16 18]\n"
          ]
        }
      ]
    },
    {
      "cell_type": "code",
      "source": [
        "# Array from Random Numbers:\n",
        "# You can create an array with random numbers using np.random.random(shape) or np.random.randint(low, high, size).\n",
        "\n",
        "\n",
        "import numpy as np\n",
        "random_array = np.random.random((4, 3))\n",
        "print(random_array)\n",
        "print(\"-------------------------------\")\n",
        "random_integral_array = np.random.randint(0, 5, size=(2, 3, 4))\n",
        "print(random_integral_array)\n",
        "print(\"--------------------\")\n",
        "a=np.random.randint(1000)\n",
        "print(a)"
      ],
      "metadata": {
        "colab": {
          "base_uri": "https://localhost:8080/"
        },
        "id": "uaG9_r4KtnjE",
        "outputId": "1fcd9792-0297-4479-ac0d-f02ca58267fd"
      },
      "execution_count": null,
      "outputs": [
        {
          "output_type": "stream",
          "name": "stdout",
          "text": [
            "[[0.51263547 0.23835448 0.03400026]\n",
            " [0.39700723 0.38769248 0.09677076]\n",
            " [0.54556538 0.10000016 0.55403378]\n",
            " [0.28021242 0.26832999 0.23409468]]\n",
            "-------------------------------\n",
            "[[[1 4 3 4]\n",
            "  [0 1 4 2]\n",
            "  [0 4 1 3]]\n",
            "\n",
            " [[0 0 1 3]\n",
            "  [4 3 1 0]\n",
            "  [4 4 4 4]]]\n",
            "--------------------\n",
            "143\n"
          ]
        }
      ]
    },
    {
      "cell_type": "code",
      "source": [
        "# Mean (Average):\n",
        "# Calculate the arithmetic mean of the array values.\n",
        "import numpy as np\n",
        "data = np.array([1, 2, 3, 4, 5])\n",
        "mean_value = np.mean(data)\n",
        "print(\"Mean:\", mean_value)"
      ],
      "metadata": {
        "colab": {
          "base_uri": "https://localhost:8080/"
        },
        "id": "BP3krSX1u1Wm",
        "outputId": "3298f4ed-1400-4639-ad38-32b68eb51db0"
      },
      "execution_count": null,
      "outputs": [
        {
          "output_type": "stream",
          "name": "stdout",
          "text": [
            "Mean: 3.0\n"
          ]
        }
      ]
    },
    {
      "cell_type": "code",
      "source": [
        "# Find the middle value of the sorted array. If the array has an even number of elements,\n",
        "# the median is the average of the two middle values.\n",
        "import numpy as np\n",
        "data = np.array([1, 2, 3, 4, 5])\n",
        "median_value = np.median(data)\n",
        "print(\"Median:\", median_value)\n"
      ],
      "metadata": {
        "colab": {
          "base_uri": "https://localhost:8080/"
        },
        "id": "wzTzHLTwwCBA",
        "outputId": "36be7825-2d6d-4353-bbe1-65243ec2ca2d"
      },
      "execution_count": null,
      "outputs": [
        {
          "output_type": "stream",
          "name": "stdout",
          "text": [
            "Median: 3.0\n"
          ]
        }
      ]
    },
    {
      "cell_type": "code",
      "source": [
        "# Calculate the standard deviation, which measures the spread or dispersion of data.\n",
        "import numpy as np\n",
        "data = np.array([1, 2, 3, 4, 5])\n",
        "std_deviation = np.std(data)\n",
        "print(\"Standard Deviation:\", std_deviation)"
      ],
      "metadata": {
        "colab": {
          "base_uri": "https://localhost:8080/"
        },
        "id": "BlFTxutVwor3",
        "outputId": "d89d19d5-49af-4b82-973d-4d5110566aa2"
      },
      "execution_count": null,
      "outputs": [
        {
          "output_type": "stream",
          "name": "stdout",
          "text": [
            "Standard Deviation: 1.4142135623730951\n"
          ]
        }
      ]
    },
    {
      "cell_type": "code",
      "source": [
        "# .Variance:\n",
        "# Find the variance, which is the average of the squared differences from the Mean.\n",
        "import numpy as np\n",
        "data = np.array([1, 2, 3, 4, 5])\n",
        "variance = np.var(data)\n",
        "print(\"Variance:\", variance)"
      ],
      "metadata": {
        "colab": {
          "base_uri": "https://localhost:8080/"
        },
        "id": "h3AZqDV-xdPn",
        "outputId": "10d29bd5-dd25-4041-c6eb-cd6144b44ea4"
      },
      "execution_count": null,
      "outputs": [
        {
          "output_type": "stream",
          "name": "stdout",
          "text": [
            "Variance: 2.0\n"
          ]
        }
      ]
    },
    {
      "cell_type": "code",
      "source": [
        "import numpy as np\n",
        "\n",
        "data = np.array([1, 2, 3, 4, 5])\n",
        "min_value = np.min(data)\n",
        "max_value = np.max(data)\n",
        "print(\"Minimum:\", min_value)\n",
        "print(\"Maximum:\", max_value)"
      ],
      "metadata": {
        "colab": {
          "base_uri": "https://localhost:8080/"
        },
        "id": "abJTz-bzxoev",
        "outputId": "a910775b-3e51-4745-e523-d86dc8ac8fe1"
      },
      "execution_count": null,
      "outputs": [
        {
          "output_type": "stream",
          "name": "stdout",
          "text": [
            "Minimum: 1\n",
            "Maximum: 5\n"
          ]
        }
      ]
    },
    {
      "cell_type": "code",
      "source": [
        "# Calculate the sum and product of all the elements in the array.\n",
        "import numpy as np\n",
        "data = np.array([1, 2, 3, 4,5,6,7])\n",
        "sum_value = np.sum(data)\n",
        "product_value = np.prod(data)\n",
        "print(\"Sum:\", sum_value)\n",
        "print(\"Product:\", product_value)"
      ],
      "metadata": {
        "colab": {
          "base_uri": "https://localhost:8080/"
        },
        "id": "ofvebRANx7gP",
        "outputId": "cbdf005a-02e5-4377-edf8-0a4de99add03"
      },
      "execution_count": null,
      "outputs": [
        {
          "output_type": "stream",
          "name": "stdout",
          "text": [
            "Sum: 28\n",
            "Product: 5040\n"
          ]
        }
      ]
    },
    {
      "cell_type": "code",
      "source": [],
      "metadata": {
        "id": "syoQ1svXyUt9"
      },
      "execution_count": null,
      "outputs": []
    }
  ]
}