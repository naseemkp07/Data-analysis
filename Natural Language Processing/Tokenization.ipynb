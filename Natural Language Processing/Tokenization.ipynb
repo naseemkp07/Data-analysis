{
  "nbformat": 4,
  "nbformat_minor": 0,
  "metadata": {
    "colab": {
      "provenance": [],
      "include_colab_link": true
    },
    "kernelspec": {
      "name": "python3",
      "display_name": "Python 3"
    },
    "language_info": {
      "name": "python"
    }
  },
  "cells": [
    {
      "cell_type": "markdown",
      "metadata": {
        "id": "view-in-github",
        "colab_type": "text"
      },
      "source": [
        "<a href=\"https://colab.research.google.com/github/naseemkp07/Data-analysis/blob/main/Natural%20Language%20Processing/Tokenization.ipynb\" target=\"_parent\"><img src=\"https://colab.research.google.com/assets/colab-badge.svg\" alt=\"Open In Colab\"/></a>"
      ]
    },
    {
      "cell_type": "markdown",
      "source": [
        "Tokenization in Natural Language Processing (NLP) is the process of breaking down text into smaller units such as words, phrases, symbols, or other meaningful elements, called tokens. If we have a sentence, the idea is to separate each word and build a vocabulary such that we can represent all words uniquely in a list. Numbers, words, etc.. all fall under tokens."
      ],
      "metadata": {
        "id": "l-e3pKggdk0D"
      }
    },
    {
      "cell_type": "markdown",
      "source": [
        "First, make sure you have NLTK installed. You can install it via pip if you haven't already:"
      ],
      "metadata": {
        "id": "PKQ3GtZpeM9b"
      }
    },
    {
      "cell_type": "code",
      "source": [
        "pip install nltk"
      ],
      "metadata": {
        "id": "MWAUE3zOeGW1",
        "colab": {
          "base_uri": "https://localhost:8080/"
        },
        "outputId": "f9cab1c7-91ee-423b-da77-d97d081ad41a"
      },
      "execution_count": null,
      "outputs": [
        {
          "output_type": "stream",
          "name": "stdout",
          "text": [
            "Requirement already satisfied: nltk in /usr/local/lib/python3.10/dist-packages (3.8.1)\n",
            "Requirement already satisfied: click in /usr/local/lib/python3.10/dist-packages (from nltk) (8.1.7)\n",
            "Requirement already satisfied: joblib in /usr/local/lib/python3.10/dist-packages (from nltk) (1.3.2)\n",
            "Requirement already satisfied: regex>=2021.8.3 in /usr/local/lib/python3.10/dist-packages (from nltk) (2023.12.25)\n",
            "Requirement already satisfied: tqdm in /usr/local/lib/python3.10/dist-packages (from nltk) (4.66.2)\n"
          ]
        }
      ]
    },
    {
      "cell_type": "code",
      "execution_count": null,
      "metadata": {
        "id": "cmvk3yTuLmGu"
      },
      "outputs": [],
      "source": [
        "import nltk"
      ]
    },
    {
      "cell_type": "code",
      "source": [
        "nltk.download('punkt')"
      ],
      "metadata": {
        "colab": {
          "base_uri": "https://localhost:8080/"
        },
        "id": "UNgmCrGZLnqf",
        "outputId": "7fc90981-b20c-43a7-e38c-029b16b810fe"
      },
      "execution_count": null,
      "outputs": [
        {
          "output_type": "stream",
          "name": "stderr",
          "text": [
            "[nltk_data] Downloading package punkt to /root/nltk_data...\n",
            "[nltk_data]   Unzipping tokenizers/punkt.zip.\n"
          ]
        },
        {
          "output_type": "execute_result",
          "data": {
            "text/plain": [
              "True"
            ]
          },
          "metadata": {},
          "execution_count": 3
        }
      ]
    },
    {
      "cell_type": "code",
      "source": [
        "paragraph = \"\"\"I have three visions for India. In 3000 years of our history, people from all over\n",
        "               the world have come and invaded us, captured our lands, conquered our minds.\n",
        "               From Alexander onwards, the Greeks, the Turks, the Moguls, the Portuguese, the British,\n",
        "               the French, the Dutch, all of them came and looted us, took over what was ours.\n",
        "               Yet we have not done this to any other nation. We have not conquered anyone.\n",
        "               We have not grabbed their land, their culture,\n",
        "               their history and tried to enforce our way of life on them.\n",
        "               Why? Because we respect the freedom of others.That is why my\n",
        "               first vision is that of freedom. I believe that India got its first vision of\n",
        "               this in 1857, when we started the War of Independence. It is this freedom that\n",
        "               we must protect and nurture and build on. If we are not free, no one will respect us.\n",
        "               My second vision for India’s development. For fifty years we have been a developing nation.\n",
        "               It is time we see ourselves as a developed nation. We are among the top 5 nations of the world\n",
        "               in terms of GDP. We have a 10 percent growth rate in most areas. Our poverty levels are falling.\n",
        "               Our achievements are being globally recognised today. Yet we lack the self-confidence to\n",
        "               see ourselves as a developed nation, self-reliant and self-assured. Isn’t this incorrect?\n",
        "               I have a third vision. India must stand up to the world. Because I believe that unless India\n",
        "               stands up to the world, no one will respect us. Only strength respects strength. We must be\n",
        "               strong not only as a military power but also as an economic power. Both must go hand-in-hand.\n",
        "               My good fortune was to have worked with three great minds. Dr. Vikram Sarabhai of the Dept. of\n",
        "               space, Professor Satish Dhawan, who succeeded him and Dr. Brahm Prakash, father of nuclear material.\n",
        "               I was lucky to have worked with all three of them closely and consider this the great opportunity of my life.\n",
        "               I see four milestones in my career\"\"\"\n"
      ],
      "metadata": {
        "id": "HnKFzQHlLsYu"
      },
      "execution_count": null,
      "outputs": []
    },
    {
      "cell_type": "code",
      "source": [
        "# Tokenizing sentences\n",
        "sentences = nltk.sent_tokenize(paragraph)"
      ],
      "metadata": {
        "id": "nkFSFLD5MmZI"
      },
      "execution_count": null,
      "outputs": []
    },
    {
      "cell_type": "code",
      "source": [
        "print(sentences)"
      ],
      "metadata": {
        "colab": {
          "base_uri": "https://localhost:8080/"
        },
        "id": "uUIvu7CdY__b",
        "outputId": "02d5631d-ee92-4a30-ae5a-2f58c35fd058"
      },
      "execution_count": null,
      "outputs": [
        {
          "output_type": "stream",
          "name": "stdout",
          "text": [
            "['I have three visions for India.', 'In 3000 years of our history, people from all over\\n               the world have come and invaded us, captured our lands, conquered our minds.', 'From Alexander onwards, the Greeks, the Turks, the Moguls, the Portuguese, the British,\\n               the French, the Dutch, all of them came and looted us, took over what was ours.', 'Yet we have not done this to any other nation.', 'We have not conquered anyone.', 'We have not grabbed their land, their culture,\\n               their history and tried to enforce our way of life on them.', 'Why?', 'Because we respect the freedom of others.That is why my\\n               first vision is that of freedom.', 'I believe that India got its first vision of\\n               this in 1857, when we started the War of Independence.', 'It is this freedom that\\n               we must protect and nurture and build on.', 'If we are not free, no one will respect us.', 'My second vision for India’s development.', 'For fifty years we have been a developing nation.', 'It is time we see ourselves as a developed nation.', 'We are among the top 5 nations of the world\\n               in terms of GDP.', 'We have a 10 percent growth rate in most areas.', 'Our poverty levels are falling.', 'Our achievements are being globally recognised today.', 'Yet we lack the self-confidence to\\n               see ourselves as a developed nation, self-reliant and self-assured.', 'Isn’t this incorrect?', 'I have a third vision.', 'India must stand up to the world.', 'Because I believe that unless India\\n               stands up to the world, no one will respect us.', 'Only strength respects strength.', 'We must be\\n               strong not only as a military power but also as an economic power.', 'Both must go hand-in-hand.', 'My good fortune was to have worked with three great minds.', 'Dr. Vikram Sarabhai of the Dept.', 'of\\n               space, Professor Satish Dhawan, who succeeded him and Dr. Brahm Prakash, father of nuclear material.', 'I was lucky to have worked with all three of them closely and consider this the great opportunity of my life.', 'I see four milestones in my career']\n"
          ]
        }
      ]
    },
    {
      "cell_type": "code",
      "source": [
        "# Tokenizing words\n",
        "words = nltk.word_tokenize(paragraph)\n",
        "words"
      ],
      "metadata": {
        "id": "1o1YKM56MpyF"
      },
      "execution_count": null,
      "outputs": []
    },
    {
      "cell_type": "code",
      "source": [
        "for words in words:\n",
        "    print(words)"
      ],
      "metadata": {
        "id": "C4LtN1Y5gy5y"
      },
      "execution_count": null,
      "outputs": []
    },
    {
      "cell_type": "code",
      "source": [
        "for sentence in sentences:\n",
        "    print(sentence)"
      ],
      "metadata": {
        "id": "m8jh9OEPM5Tw",
        "colab": {
          "base_uri": "https://localhost:8080/"
        },
        "outputId": "191ea31f-24fd-4fef-8096-6ca37b6bfd63"
      },
      "execution_count": null,
      "outputs": [
        {
          "output_type": "stream",
          "name": "stdout",
          "text": [
            "I have three visions for India.\n",
            "In 3000 years of our history, people from all over\n",
            "               the world have come and invaded us, captured our lands, conquered our minds.\n",
            "From Alexander onwards, the Greeks, the Turks, the Moguls, the Portuguese, the British,\n",
            "               the French, the Dutch, all of them came and looted us, took over what was ours.\n",
            "Yet we have not done this to any other nation.\n",
            "We have not conquered anyone.\n",
            "We have not grabbed their land, their culture,\n",
            "               their history and tried to enforce our way of life on them.\n",
            "Why?\n",
            "Because we respect the freedom of others.That is why my\n",
            "               first vision is that of freedom.\n",
            "I believe that India got its first vision of\n",
            "               this in 1857, when we started the War of Independence.\n",
            "It is this freedom that\n",
            "               we must protect and nurture and build on.\n",
            "If we are not free, no one will respect us.\n",
            "My second vision for India’s development.\n",
            "For fifty years we have been a developing nation.\n",
            "It is time we see ourselves as a developed nation.\n",
            "We are among the top 5 nations of the world\n",
            "               in terms of GDP.\n",
            "We have a 10 percent growth rate in most areas.\n",
            "Our poverty levels are falling.\n",
            "Our achievements are being globally recognised today.\n",
            "Yet we lack the self-confidence to\n",
            "               see ourselves as a developed nation, self-reliant and self-assured.\n",
            "Isn’t this incorrect?\n",
            "I have a third vision.\n",
            "India must stand up to the world.\n",
            "Because I believe that unless India\n",
            "               stands up to the world, no one will respect us.\n",
            "Only strength respects strength.\n",
            "We must be\n",
            "               strong not only as a military power but also as an economic power.\n",
            "Both must go hand-in-hand.\n",
            "My good fortune was to have worked with three great minds.\n",
            "Dr. Vikram Sarabhai of the Dept.\n",
            "of\n",
            "               space, Professor Satish Dhawan, who succeeded him and Dr. Brahm Prakash, father of nuclear material.\n",
            "I was lucky to have worked with all three of them closely and consider this the great opportunity of my life.\n",
            "I see four milestones in my career\n"
          ]
        }
      ]
    },
    {
      "cell_type": "code",
      "source": [
        "len(sentences)"
      ],
      "metadata": {
        "colab": {
          "base_uri": "https://localhost:8080/"
        },
        "id": "r9XAqGTq6T2n",
        "outputId": "c556c9ba-578b-4acc-930d-cab081d8b715"
      },
      "execution_count": null,
      "outputs": [
        {
          "output_type": "execute_result",
          "data": {
            "text/plain": [
              "31"
            ]
          },
          "metadata": {},
          "execution_count": 10
        }
      ]
    },
    {
      "cell_type": "markdown",
      "source": [
        "**Lower case conversion**\n"
      ],
      "metadata": {
        "id": "BFCNW3XGk7EE"
      }
    },
    {
      "cell_type": "code",
      "source": [
        "import re\n",
        "for i in range(0,len(sentences)):\n",
        "        text = re.sub(r\"[^a-zA-Z0-9]\", \" \", sentences[i].lower())\n",
        "        print(text)\n",
        "        words = text.split()\n",
        "        print(words)\n"
      ],
      "metadata": {
        "colab": {
          "base_uri": "https://localhost:8080/"
        },
        "id": "dpiI_TurM7xG",
        "outputId": "aae6647b-3bde-428e-e7a6-68aad46d541f"
      },
      "execution_count": null,
      "outputs": [
        {
          "output_type": "stream",
          "name": "stdout",
          "text": [
            "i have three visions for india \n",
            "['i', 'have', 'three', 'visions', 'for', 'india']\n",
            "in 3000 years of our history  people from all over                the world have come and invaded us  captured our lands  conquered our minds \n",
            "['in', '3000', 'years', 'of', 'our', 'history', 'people', 'from', 'all', 'over', 'the', 'world', 'have', 'come', 'and', 'invaded', 'us', 'captured', 'our', 'lands', 'conquered', 'our', 'minds']\n",
            "from alexander onwards  the greeks  the turks  the moguls  the portuguese  the british                 the french  the dutch  all of them came and looted us  took over what was ours \n",
            "['from', 'alexander', 'onwards', 'the', 'greeks', 'the', 'turks', 'the', 'moguls', 'the', 'portuguese', 'the', 'british', 'the', 'french', 'the', 'dutch', 'all', 'of', 'them', 'came', 'and', 'looted', 'us', 'took', 'over', 'what', 'was', 'ours']\n",
            "yet we have not done this to any other nation \n",
            "['yet', 'we', 'have', 'not', 'done', 'this', 'to', 'any', 'other', 'nation']\n",
            "we have not conquered anyone \n",
            "['we', 'have', 'not', 'conquered', 'anyone']\n",
            "we have not grabbed their land  their culture                 their history and tried to enforce our way of life on them \n",
            "['we', 'have', 'not', 'grabbed', 'their', 'land', 'their', 'culture', 'their', 'history', 'and', 'tried', 'to', 'enforce', 'our', 'way', 'of', 'life', 'on', 'them']\n",
            "why \n",
            "['why']\n",
            "because we respect the freedom of others that is why my                first vision is that of freedom \n",
            "['because', 'we', 'respect', 'the', 'freedom', 'of', 'others', 'that', 'is', 'why', 'my', 'first', 'vision', 'is', 'that', 'of', 'freedom']\n",
            "i believe that india got its first vision of                this in 1857  when we started the war of independence \n",
            "['i', 'believe', 'that', 'india', 'got', 'its', 'first', 'vision', 'of', 'this', 'in', '1857', 'when', 'we', 'started', 'the', 'war', 'of', 'independence']\n",
            "it is this freedom that                we must protect and nurture and build on \n",
            "['it', 'is', 'this', 'freedom', 'that', 'we', 'must', 'protect', 'and', 'nurture', 'and', 'build', 'on']\n",
            "if we are not free  no one will respect us \n",
            "['if', 'we', 'are', 'not', 'free', 'no', 'one', 'will', 'respect', 'us']\n",
            "my second vision for india s development \n",
            "['my', 'second', 'vision', 'for', 'india', 's', 'development']\n",
            "for fifty years we have been a developing nation \n",
            "['for', 'fifty', 'years', 'we', 'have', 'been', 'a', 'developing', 'nation']\n",
            "it is time we see ourselves as a developed nation \n",
            "['it', 'is', 'time', 'we', 'see', 'ourselves', 'as', 'a', 'developed', 'nation']\n",
            "we are among the top 5 nations of the world                in terms of gdp \n",
            "['we', 'are', 'among', 'the', 'top', '5', 'nations', 'of', 'the', 'world', 'in', 'terms', 'of', 'gdp']\n",
            "we have a 10 percent growth rate in most areas \n",
            "['we', 'have', 'a', '10', 'percent', 'growth', 'rate', 'in', 'most', 'areas']\n",
            "our poverty levels are falling \n",
            "['our', 'poverty', 'levels', 'are', 'falling']\n",
            "our achievements are being globally recognised today \n",
            "['our', 'achievements', 'are', 'being', 'globally', 'recognised', 'today']\n",
            "yet we lack the self confidence to                see ourselves as a developed nation  self reliant and self assured \n",
            "['yet', 'we', 'lack', 'the', 'self', 'confidence', 'to', 'see', 'ourselves', 'as', 'a', 'developed', 'nation', 'self', 'reliant', 'and', 'self', 'assured']\n",
            "isn t this incorrect \n",
            "['isn', 't', 'this', 'incorrect']\n",
            "i have a third vision \n",
            "['i', 'have', 'a', 'third', 'vision']\n",
            "india must stand up to the world \n",
            "['india', 'must', 'stand', 'up', 'to', 'the', 'world']\n",
            "because i believe that unless india                stands up to the world  no one will respect us \n",
            "['because', 'i', 'believe', 'that', 'unless', 'india', 'stands', 'up', 'to', 'the', 'world', 'no', 'one', 'will', 'respect', 'us']\n",
            "only strength respects strength \n",
            "['only', 'strength', 'respects', 'strength']\n",
            "we must be                strong not only as a military power but also as an economic power \n",
            "['we', 'must', 'be', 'strong', 'not', 'only', 'as', 'a', 'military', 'power', 'but', 'also', 'as', 'an', 'economic', 'power']\n",
            "both must go hand in hand \n",
            "['both', 'must', 'go', 'hand', 'in', 'hand']\n",
            "my good fortune was to have worked with three great minds \n",
            "['my', 'good', 'fortune', 'was', 'to', 'have', 'worked', 'with', 'three', 'great', 'minds']\n",
            "dr  vikram sarabhai of the dept \n",
            "['dr', 'vikram', 'sarabhai', 'of', 'the', 'dept']\n",
            "of                space  professor satish dhawan  who succeeded him and dr  brahm prakash  father of nuclear material \n",
            "['of', 'space', 'professor', 'satish', 'dhawan', 'who', 'succeeded', 'him', 'and', 'dr', 'brahm', 'prakash', 'father', 'of', 'nuclear', 'material']\n",
            "i was lucky to have worked with all three of them closely and consider this the great opportunity of my life \n",
            "['i', 'was', 'lucky', 'to', 'have', 'worked', 'with', 'all', 'three', 'of', 'them', 'closely', 'and', 'consider', 'this', 'the', 'great', 'opportunity', 'of', 'my', 'life']\n",
            "i see four milestones in my career\n",
            "['i', 'see', 'four', 'milestones', 'in', 'my', 'career']\n"
          ]
        }
      ]
    },
    {
      "cell_type": "markdown",
      "source": [
        "**Tokenization using Gensim**"
      ],
      "metadata": {
        "id": "BqXlRfEOoWJr"
      }
    },
    {
      "cell_type": "code",
      "source": [
        "!pip install gensim\n"
      ],
      "metadata": {
        "colab": {
          "base_uri": "https://localhost:8080/"
        },
        "id": "JvJ_6rTbrpSc",
        "outputId": "b84d9b0e-2cc5-4b80-b3a7-878b08f1921c"
      },
      "execution_count": null,
      "outputs": [
        {
          "output_type": "stream",
          "name": "stdout",
          "text": [
            "Requirement already satisfied: gensim in /usr/local/lib/python3.10/dist-packages (4.3.2)\n",
            "Requirement already satisfied: numpy>=1.18.5 in /usr/local/lib/python3.10/dist-packages (from gensim) (1.25.2)\n",
            "Requirement already satisfied: scipy>=1.7.0 in /usr/local/lib/python3.10/dist-packages (from gensim) (1.11.4)\n",
            "Requirement already satisfied: smart-open>=1.8.1 in /usr/local/lib/python3.10/dist-packages (from gensim) (6.4.0)\n"
          ]
        }
      ]
    },
    {
      "cell_type": "code",
      "source": [
        "# Tokenize paragraph into sentences\n",
        "\n",
        "from gensim.utils import simple_preprocess\n",
        "\n",
        "# Sample text\n",
        "text = \"Tokenization is an important step in NLP. Gensim is a powerful library.\"\n",
        "\n",
        "# Tokenize the text using Gensim's simple_preprocess function\n",
        "tokens = simple_preprocess(text)\n",
        "\n",
        "# Print the tokens\n",
        "print(tokens)\n"
      ],
      "metadata": {
        "colab": {
          "base_uri": "https://localhost:8080/"
        },
        "id": "Ix2DubSip_E0",
        "outputId": "297f30c6-111d-4839-c4e7-bd9d1b0b3672"
      },
      "execution_count": null,
      "outputs": [
        {
          "output_type": "stream",
          "name": "stdout",
          "text": [
            "['tokenization', 'is', 'an', 'important', 'step', 'in', 'nlp', 'gensim', 'is', 'powerful', 'library']\n"
          ]
        }
      ]
    },
    {
      "cell_type": "code",
      "source": [
        "# Tokenize into words\n",
        "#list(tokenize(text))"
      ],
      "metadata": {
        "id": "570dY2VLt86A"
      },
      "execution_count": null,
      "outputs": []
    },
    {
      "cell_type": "code",
      "source": [
        "import gensim\n",
        "from nltk.tokenize import word_tokenize\n",
        "import nltk\n",
        "nltk.download('punkt')\n",
        "\n",
        "# Sample text\n",
        "text = \"Tokenization is an important step in NLP. Gensim is a powerful library.\"\n",
        "\n",
        "# Tokenize the text using NLTK\n",
        "tokens = word_tokenize(text)\n",
        "\n",
        "print(tokens)"
      ],
      "metadata": {
        "colab": {
          "base_uri": "https://localhost:8080/"
        },
        "id": "hbfUKGXkkkGL",
        "outputId": "8fc87b2c-c8d3-4dd6-eafa-40c9c1b19fdd"
      },
      "execution_count": null,
      "outputs": [
        {
          "output_type": "stream",
          "name": "stdout",
          "text": [
            "['Tokenization', 'is', 'an', 'important', 'step', 'in', 'NLP', '.', 'Gensim', 'is', 'a', 'powerful', 'library', '.']\n"
          ]
        },
        {
          "output_type": "stream",
          "name": "stderr",
          "text": [
            "[nltk_data] Downloading package punkt to /root/nltk_data...\n",
            "[nltk_data]   Package punkt is already up-to-date!\n"
          ]
        }
      ]
    },
    {
      "cell_type": "code",
      "source": [
        "# Create a Gensim dictionary from the tokens\n",
        "gensim_dictionary = gensim.corpora.Dictionary([tokens])\n",
        "\n",
        "# Print the tokens and their IDs in the dictionary\n",
        "print(gensim_dictionary.token2id)"
      ],
      "metadata": {
        "id": "Yvv_JIF-s5L_",
        "colab": {
          "base_uri": "https://localhost:8080/"
        },
        "outputId": "41d16138-ac7b-4e8e-ac2b-687742b46181"
      },
      "execution_count": null,
      "outputs": [
        {
          "output_type": "stream",
          "name": "stdout",
          "text": [
            "{'.': 0, 'Gensim': 1, 'NLP': 2, 'Tokenization': 3, 'a': 4, 'an': 5, 'important': 6, 'in': 7, 'is': 8, 'library': 9, 'powerful': 10, 'step': 11}\n"
          ]
        }
      ]
    },
    {
      "cell_type": "code",
      "source": [],
      "metadata": {
        "id": "Ne6XLsgEaVng"
      },
      "execution_count": null,
      "outputs": []
    }
  ]
}